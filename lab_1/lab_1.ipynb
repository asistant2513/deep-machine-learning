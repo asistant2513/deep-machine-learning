{
 "cells": [
  {
   "cell_type": "code",
   "execution_count": null,
   "id": "cebf71ca",
   "metadata": {
    "scrolled": true
   },
   "outputs": [],
   "source": [
    "a = int(input(\"Enter the number a: \"))\n",
    "b = int(input(\"Enter the number b: \"))"
   ]
  },
  {
   "cell_type": "code",
   "execution_count": null,
   "id": "4ed72dcf",
   "metadata": {},
   "outputs": [],
   "source": [
    "print(f\"a + b = {a + b}\")"
   ]
  },
  {
   "cell_type": "code",
   "execution_count": null,
   "id": "7075c0a4",
   "metadata": {},
   "outputs": [],
   "source": [
    "print(f\"a - b = {a - b}\")"
   ]
  },
  {
   "cell_type": "code",
   "execution_count": null,
   "id": "6225506d",
   "metadata": {},
   "outputs": [],
   "source": [
    "print(f\"a * b = {a * b}\")"
   ]
  },
  {
   "cell_type": "code",
   "execution_count": null,
   "id": "4c38f39b",
   "metadata": {},
   "outputs": [],
   "source": [
    "print(f\"a / b = {int(a / b)}\")"
   ]
  },
  {
   "cell_type": "code",
   "execution_count": null,
   "id": "867cff76",
   "metadata": {},
   "outputs": [],
   "source": [
    "print(f\"a % b = {a % b}\")"
   ]
  },
  {
   "cell_type": "code",
   "execution_count": null,
   "id": "5a3ffd9e",
   "metadata": {},
   "outputs": [],
   "source": [
    "import math as m"
   ]
  },
  {
   "cell_type": "code",
   "execution_count": null,
   "id": "0d0b66af",
   "metadata": {},
   "outputs": [],
   "source": [
    "print(f\"log(a) = {m.log10(a)}\")"
   ]
  },
  {
   "cell_type": "code",
   "execution_count": null,
   "id": "cb919c56",
   "metadata": {
    "scrolled": true
   },
   "outputs": [],
   "source": [
    "print(f\"a^b = {a ** b}\")"
   ]
  },
  {
   "cell_type": "code",
   "execution_count": null,
   "id": "773daec9",
   "metadata": {},
   "outputs": [],
   "source": []
  }
 ],
 "metadata": {
  "kernelspec": {
   "display_name": "Python 3 (ipykernel)",
   "language": "python",
   "name": "python3"
  },
  "language_info": {
   "codemirror_mode": {
    "name": "ipython",
    "version": 3
   },
   "file_extension": ".py",
   "mimetype": "text/x-python",
   "name": "python",
   "nbconvert_exporter": "python",
   "pygments_lexer": "ipython3",
   "version": "3.9.13"
  }
 },
 "nbformat": 4,
 "nbformat_minor": 5
}
