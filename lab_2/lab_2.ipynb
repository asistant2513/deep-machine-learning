{
 "cells": [
  {
   "cell_type": "code",
   "execution_count": 1,
   "id": "af9e2d22",
   "metadata": {},
   "outputs": [],
   "source": [
    "import numpy as np"
   ]
  },
  {
   "cell_type": "code",
   "execution_count": 2,
   "id": "a2059083",
   "metadata": {},
   "outputs": [
    {
     "name": "stdout",
     "output_type": "stream",
     "text": [
      "Enter arrays length: 100\n"
     ]
    }
   ],
   "source": [
    "N=int(input(\"Enter arrays length: \"))"
   ]
  },
  {
   "cell_type": "code",
   "execution_count": 3,
   "id": "14b5817e",
   "metadata": {
    "scrolled": false
   },
   "outputs": [],
   "source": [
    "arr1 = np.arange(0, N, 1)\n",
    "arr2 = np.arange(0, 1, 1/N)"
   ]
  },
  {
   "cell_type": "code",
   "execution_count": 4,
   "id": "3ceab76c",
   "metadata": {},
   "outputs": [
    {
     "data": {
      "text/plain": [
       "array([ 0.  ,  1.01,  2.02,  3.03,  4.04,  5.05,  6.06,  7.07,  8.08,\n",
       "        9.09, 10.1 , 11.11, 12.12, 13.13, 14.14, 15.15, 16.16, 17.17,\n",
       "       18.18, 19.19, 20.2 , 21.21, 22.22, 23.23, 24.24, 25.25, 26.26,\n",
       "       27.27, 28.28, 29.29, 30.3 , 31.31, 32.32, 33.33, 34.34, 35.35,\n",
       "       36.36, 37.37, 38.38, 39.39, 40.4 , 41.41, 42.42, 43.43, 44.44,\n",
       "       45.45, 46.46, 47.47, 48.48, 49.49, 50.5 , 51.51, 52.52, 53.53,\n",
       "       54.54, 55.55, 56.56, 57.57, 58.58, 59.59, 60.6 , 61.61, 62.62,\n",
       "       63.63, 64.64, 65.65, 66.66, 67.67, 68.68, 69.69, 70.7 , 71.71,\n",
       "       72.72, 73.73, 74.74, 75.75, 76.76, 77.77, 78.78, 79.79, 80.8 ,\n",
       "       81.81, 82.82, 83.83, 84.84, 85.85, 86.86, 87.87, 88.88, 89.89,\n",
       "       90.9 , 91.91, 92.92, 93.93, 94.94, 95.95, 96.96, 97.97, 98.98,\n",
       "       99.99])"
      ]
     },
     "execution_count": 4,
     "metadata": {},
     "output_type": "execute_result"
    }
   ],
   "source": [
    "res_arr = np.zeros(N, dtype=float)\n",
    "for i in range(0, N):\n",
    "    res_arr[i] = arr1[i] + arr2[i]\n",
    "res_arr"
   ]
  },
  {
   "cell_type": "code",
   "execution_count": 5,
   "id": "e92b7eec",
   "metadata": {},
   "outputs": [],
   "source": [
    "res_arr2 = np.add(arr1, arr2)"
   ]
  },
  {
   "cell_type": "code",
   "execution_count": 6,
   "id": "71e73157",
   "metadata": {},
   "outputs": [
    {
     "data": {
      "text/plain": [
       "array([ 0.  ,  1.01,  2.02,  3.03,  4.04,  5.05,  6.06,  7.07,  8.08,\n",
       "        9.09, 10.1 , 11.11, 12.12, 13.13, 14.14, 15.15, 16.16, 17.17,\n",
       "       18.18, 19.19, 20.2 , 21.21, 22.22, 23.23, 24.24, 25.25, 26.26,\n",
       "       27.27, 28.28, 29.29, 30.3 , 31.31, 32.32, 33.33, 34.34, 35.35,\n",
       "       36.36, 37.37, 38.38, 39.39, 40.4 , 41.41, 42.42, 43.43, 44.44,\n",
       "       45.45, 46.46, 47.47, 48.48, 49.49, 50.5 , 51.51, 52.52, 53.53,\n",
       "       54.54, 55.55, 56.56, 57.57, 58.58, 59.59, 60.6 , 61.61, 62.62,\n",
       "       63.63, 64.64, 65.65, 66.66, 67.67, 68.68, 69.69, 70.7 , 71.71,\n",
       "       72.72, 73.73, 74.74, 75.75, 76.76, 77.77, 78.78, 79.79, 80.8 ,\n",
       "       81.81, 82.82, 83.83, 84.84, 85.85, 86.86, 87.87, 88.88, 89.89,\n",
       "       90.9 , 91.91, 92.92, 93.93, 94.94, 95.95, 96.96, 97.97, 98.98,\n",
       "       99.99])"
      ]
     },
     "execution_count": 6,
     "metadata": {},
     "output_type": "execute_result"
    }
   ],
   "source": [
    "res_arr2"
   ]
  },
  {
   "cell_type": "code",
   "execution_count": 20,
   "id": "fc20ddba",
   "metadata": {},
   "outputs": [
    {
     "name": "stdout",
     "output_type": "stream",
     "text": [
      "Enter number of rows for matrices: 5\n"
     ]
    }
   ],
   "source": [
    "ROWS = int(input(\"Enter number of rows for matrices: \"))"
   ]
  },
  {
   "cell_type": "code",
   "execution_count": 21,
   "id": "1aa4c334",
   "metadata": {},
   "outputs": [
    {
     "name": "stdout",
     "output_type": "stream",
     "text": [
      "Enter number of columns for matrices: 5\n"
     ]
    }
   ],
   "source": [
    "COLS = int(input(\"Enter number of columns for matrices: \"))"
   ]
  },
  {
   "cell_type": "code",
   "execution_count": 25,
   "id": "2cb9277b",
   "metadata": {},
   "outputs": [],
   "source": [
    "m1 = np.reshape(np.tile(arr1[0:COLS:1], ROWS), (ROWS, COLS))\n",
    "m2 = np.reshape(np.tile(arr2[0:COLS:1], ROWS), (ROWS, COLS))"
   ]
  },
  {
   "cell_type": "code",
   "execution_count": 26,
   "id": "28e29d23",
   "metadata": {},
   "outputs": [
    {
     "data": {
      "text/plain": [
       "(array([[0, 1, 2, 3, 4],\n",
       "        [0, 1, 2, 3, 4],\n",
       "        [0, 1, 2, 3, 4],\n",
       "        [0, 1, 2, 3, 4],\n",
       "        [0, 1, 2, 3, 4]]),\n",
       " array([[0.  , 0.01, 0.02, 0.03, 0.04],\n",
       "        [0.  , 0.01, 0.02, 0.03, 0.04],\n",
       "        [0.  , 0.01, 0.02, 0.03, 0.04],\n",
       "        [0.  , 0.01, 0.02, 0.03, 0.04],\n",
       "        [0.  , 0.01, 0.02, 0.03, 0.04]]))"
      ]
     },
     "execution_count": 26,
     "metadata": {},
     "output_type": "execute_result"
    }
   ],
   "source": [
    "m1, m2"
   ]
  },
  {
   "cell_type": "code",
   "execution_count": 34,
   "id": "59fe1eeb",
   "metadata": {},
   "outputs": [
    {
     "data": {
      "text/plain": [
       "array([[0. , 0.1, 0.2, 0.3, 0.4],\n",
       "       [0. , 0.1, 0.2, 0.3, 0.4],\n",
       "       [0. , 0.1, 0.2, 0.3, 0.4],\n",
       "       [0. , 0.1, 0.2, 0.3, 0.4],\n",
       "       [0. , 0.1, 0.2, 0.3, 0.4]])"
      ]
     },
     "execution_count": 34,
     "metadata": {},
     "output_type": "execute_result"
    }
   ],
   "source": [
    "res_m = np.zeros((ROWS, COLS))\n",
    "assert(ROWS == COLS)\n",
    "for i in range(0, ROWS):\n",
    "    for j in range(0, COLS):\n",
    "        for k in range(0, ROWS):\n",
    "            res_m[i][j] += m1[i][k] * m2[k][j]\n",
    "res_m"
   ]
  },
  {
   "cell_type": "code",
   "execution_count": 29,
   "id": "6cc4c3cb",
   "metadata": {},
   "outputs": [],
   "source": [
    "res_m1 = m1 @ m2"
   ]
  },
  {
   "cell_type": "code",
   "execution_count": 30,
   "id": "be7cea35",
   "metadata": {},
   "outputs": [
    {
     "data": {
      "text/plain": [
       "array([[0. , 0.1, 0.2, 0.3, 0.4],\n",
       "       [0. , 0.1, 0.2, 0.3, 0.4],\n",
       "       [0. , 0.1, 0.2, 0.3, 0.4],\n",
       "       [0. , 0.1, 0.2, 0.3, 0.4],\n",
       "       [0. , 0.1, 0.2, 0.3, 0.4]])"
      ]
     },
     "execution_count": 30,
     "metadata": {},
     "output_type": "execute_result"
    }
   ],
   "source": [
    "res_m1"
   ]
  },
  {
   "cell_type": "code",
   "execution_count": null,
   "id": "3637a151",
   "metadata": {},
   "outputs": [],
   "source": []
  }
 ],
 "metadata": {
  "kernelspec": {
   "display_name": "Python 3 (ipykernel)",
   "language": "python",
   "name": "python3"
  },
  "language_info": {
   "codemirror_mode": {
    "name": "ipython",
    "version": 3
   },
   "file_extension": ".py",
   "mimetype": "text/x-python",
   "name": "python",
   "nbconvert_exporter": "python",
   "pygments_lexer": "ipython3",
   "version": "3.9.13"
  }
 },
 "nbformat": 4,
 "nbformat_minor": 5
}
